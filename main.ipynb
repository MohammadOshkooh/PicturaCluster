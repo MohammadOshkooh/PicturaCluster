{
 "cells": [
  {
   "cell_type": "code",
   "id": "initial_id",
   "metadata": {
    "collapsed": true,
    "ExecuteTime": {
     "end_time": "2025-03-31T15:44:58.593291Z",
     "start_time": "2025-03-31T15:44:57.844940Z"
    }
   },
   "source": [
    "import numpy as np\n",
    "import cv2\n",
    "import os\n",
    "from skimage.filters.rank import entropy\n",
    "import pandas as pd"
   ],
   "outputs": [],
   "execution_count": 18
  },
  {
   "metadata": {},
   "cell_type": "markdown",
   "source": "#  Phase 1: Feature Extraction",
   "id": "2cdcc4b4da070319"
  },
  {
   "metadata": {},
   "cell_type": "markdown",
   "source": [
    "## Load Images from Dataset\n",
    "This function loads images, resizes them, and stores them in arrays."
   ],
   "id": "bb7f5c5001a86825"
  },
  {
   "metadata": {
    "ExecuteTime": {
     "end_time": "2025-03-31T15:45:02.302178Z",
     "start_time": "2025-03-31T15:45:02.298042Z"
    }
   },
   "cell_type": "code",
   "source": [
    "def load_images(folder, img_size=(256, 256)):\n",
    "    images = []\n",
    "    labels = []\n",
    "    for class_name in os.listdir(folder):\n",
    "        class_path = os.path.join(folder, class_name)\n",
    "        if os.path.isdir(class_path):\n",
    "            for img_name in os.listdir(class_path):\n",
    "                img_path = os.path.join(class_path, img_name)\n",
    "                img = cv2.imread(img_path)\n",
    "                img = cv2.resize(img, img_size)\n",
    "                images.append(img)\n",
    "                labels.append(class_name)\n",
    "    return np.array(images), np.array(labels)"
   ],
   "id": "d857f85c651e59b2",
   "outputs": [],
   "execution_count": 20
  },
  {
   "metadata": {},
   "cell_type": "markdown",
   "source": [
    "## Feature Extraction\n",
    "The following function extracts various features including color, texture, edge density, and statistical properties.\n"
   ],
   "id": "2abc9e3b83ba4328"
  },
  {
   "metadata": {
    "ExecuteTime": {
     "end_time": "2025-03-31T15:45:04.534215Z",
     "start_time": "2025-03-31T15:45:04.528239Z"
    }
   },
   "cell_type": "code",
   "source": [
    "def extract_features(images):\n",
    "    \"\"\"\n",
    "    Extracts various features from images including color, texture, edge density, \n",
    "    and statistical properties.\n",
    "    \"\"\"\n",
    "    features = []\n",
    "    for img in images:\n",
    "        gray = cv2.cvtColor(img, cv2.COLOR_BGR2GRAY)\n",
    "\n",
    "        # Color Features: Mean values of R, G, B channels\n",
    "        mean_colors = img.mean(axis=(0, 1))\n",
    "\n",
    "        # Texture Feature: Variance of Laplacian (sharpness measure)\n",
    "        lbp = cv2.Laplacian(gray, cv2.CV_64F).var()\n",
    "\n",
    "        # Edge Feature: Edge density using Canny edge detection\n",
    "        edges = cv2.Canny(gray, 100, 200)\n",
    "        edge_density = np.mean(edges)\n",
    "\n",
    "        # Statistical Feature: Combined Mean & Variance of pixel intensity\n",
    "        stat_features = np.mean(gray) + np.var(gray)\n",
    "\n",
    "        # Color Variance: Measures the diversity of colors in the image\n",
    "        color_variance = np.var(img, axis=(0, 1)).mean()\n",
    "\n",
    "        # Texture Roughness: Measures the roughness of the texture\n",
    "        roughness = np.mean(np.abs(np.diff(gray.astype(np.float32))))\n",
    "\n",
    "        # Image Entropy: Measures randomness/complexity in the image\n",
    "        entropy_value = entropy(gray, np.ones((3,3))).mean()\n",
    "\n",
    "        # Append features to the list\n",
    "        features.append([*mean_colors, lbp, edge_density, stat_features, color_variance, roughness, entropy_value])\n",
    "\n",
    "    return np.array(features)"
   ],
   "id": "55171366f2c5c572",
   "outputs": [],
   "execution_count": 21
  },
  {
   "metadata": {},
   "cell_type": "markdown",
   "source": [
    "## Process Images and Save Features\n",
    "Now, we load the images, extract features, and save them into a CSV file for further analysis.\n"
   ],
   "id": "35afa284aec43b7c"
  },
  {
   "metadata": {
    "ExecuteTime": {
     "end_time": "2025-03-31T15:47:31.225940Z",
     "start_time": "2025-03-31T15:45:07.713183Z"
    }
   },
   "cell_type": "code",
   "source": [
    "# Load images from dataset\n",
    "image_folder = \"./dataset/train\"\n",
    "images, labels = load_images(image_folder)\n",
    "\n",
    "# Extract features\n",
    "features = extract_features(images)\n",
    "\n",
    "# Save extracted features into a CSV file for further analysis\n",
    "df = pd.DataFrame(features, columns=[\"R\", \"G\", \"B\", \"LBP\", \"Edges\", \"Stat_Feature\", \"Color_Variance\", \"Roughness\", \"Entropy\"])\n",
    "df.to_csv(\"features.csv\", index=False)\n",
    "\n",
    "print(\"✅ Feature extraction completed and saved!\")"
   ],
   "id": "e382060954b509f9",
   "outputs": [
    {
     "name": "stdout",
     "output_type": "stream",
     "text": [
      "✅ Feature extraction completed and saved!\n"
     ]
    }
   ],
   "execution_count": 22
  },
  {
   "metadata": {},
   "cell_type": "markdown",
   "source": [
    "## Summary of Extracted Features  \n",
    "\n",
    "Below is a summary of all extracted features along with their descriptions:\n",
    "\n",
    "|  **Feature Name** |  **Description** |\n",
    "|--------------|-------------------------------------------------------------|\n",
    "| **R, G, B** | Average pixel intensity in Red, Green, and Blue channels (color features) |\n",
    "| **LBP (Laplacian Variance)** | Measures texture sharpness and contrast (higher = sharper texture) |\n",
    "| **Edge Density** | Number of edges detected using the Canny edge detector (higher = more edges) |\n",
    "| **Stat_Feature** | Combined Mean & Variance of pixel intensities (brightness & contrast) |\n",
    "| **Color Variance** | Measures the diversity of colors in the image (higher = more colorful) |\n",
    "| **Texture Roughness** | Measures surface roughness using pixel intensity differences (higher = rougher) |\n",
    "| **Entropy** | Measures randomness & complexity in the image (higher = more complex texture) |\n",
    "\n",
    "---\n",
    "### ✅ **Key Insights**\n",
    "✔ **Higher Edge Density** → More detailed images with strong contours.  \n",
    "✔ **Higher Entropy** → More complex images with diverse textures.  \n",
    "✔ **Higher Color Variance** → More colorful and vibrant images.  \n",
    "✔ **Higher Roughness** → More irregular and noisy textures.  \n",
    "\n",
    "These features will be used in the next step for **Feature Selection (Phase 2).**  \n",
    "**Let’s move to the next step!**\n"
   ],
   "id": "71cf9fd905f97bf8"
  }
 ],
 "metadata": {
  "kernelspec": {
   "display_name": "Python 3",
   "language": "python",
   "name": "python3"
  },
  "language_info": {
   "codemirror_mode": {
    "name": "ipython",
    "version": 2
   },
   "file_extension": ".py",
   "mimetype": "text/x-python",
   "name": "python",
   "nbconvert_exporter": "python",
   "pygments_lexer": "ipython2",
   "version": "2.7.6"
  }
 },
 "nbformat": 4,
 "nbformat_minor": 5
}
