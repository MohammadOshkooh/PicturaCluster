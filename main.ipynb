{
 "cells": [
  {
   "cell_type": "code",
   "id": "initial_id",
   "metadata": {
    "collapsed": true,
    "ExecuteTime": {
     "end_time": "2025-04-01T09:41:04.571498Z",
     "start_time": "2025-04-01T09:41:04.568034Z"
    }
   },
   "source": [
    "import numpy as np\n",
    "import cv2\n",
    "import os\n",
    "from skimage.filters.rank import entropy\n",
    "import seaborn as sns\n",
    "import pandas as pd\n",
    "import matplotlib.pyplot as plt"
   ],
   "outputs": [],
   "execution_count": 85
  },
  {
   "metadata": {},
   "cell_type": "markdown",
   "source": "#  Phase 1: Feature Extraction",
   "id": "2cdcc4b4da070319"
  },
  {
   "metadata": {},
   "cell_type": "markdown",
   "source": [
    "## Load Images from Dataset\n",
    "This function loads images, resizes them, and stores them in arrays."
   ],
   "id": "bb7f5c5001a86825"
  },
  {
   "metadata": {
    "ExecuteTime": {
     "end_time": "2025-04-01T09:41:06.587764Z",
     "start_time": "2025-04-01T09:41:06.583224Z"
    }
   },
   "cell_type": "code",
   "source": [
    "def load_images(folder, img_size=(256, 256)):\n",
    "    images = []\n",
    "    labels = []\n",
    "    for class_name in os.listdir(folder):\n",
    "        class_path = os.path.join(folder, class_name)\n",
    "        if os.path.isdir(class_path):\n",
    "            for img_name in os.listdir(class_path):\n",
    "                img_path = os.path.join(class_path, img_name)\n",
    "                img = cv2.imread(img_path)\n",
    "                img = cv2.resize(img, img_size)\n",
    "                images.append(img)\n",
    "                labels.append(class_name)\n",
    "    return np.array(images), np.array(labels)"
   ],
   "id": "d857f85c651e59b2",
   "outputs": [],
   "execution_count": 86
  },
  {
   "metadata": {},
   "cell_type": "markdown",
   "source": [
    "## Feature Extraction\n",
    "The following function extracts various features including color, texture, edge density, and statistical properties.\n"
   ],
   "id": "2abc9e3b83ba4328"
  },
  {
   "metadata": {
    "ExecuteTime": {
     "end_time": "2025-04-01T09:48:26.022704Z",
     "start_time": "2025-04-01T09:48:25.991147Z"
    }
   },
   "cell_type": "code",
   "source": [
    "import cv2\n",
    "import numpy as np\n",
    "from skimage.feature import graycomatrix, graycoprops\n",
    "from skimage.measure import shannon_entropy\n",
    "\n",
    "def extract_features(images):\n",
    "    \"\"\"\n",
    "    Extracts various features from images including color, texture, edge density, \n",
    "    statistical properties, and homogeneity.\n",
    "    \"\"\"\n",
    "    features = []\n",
    "    for img in images:\n",
    "        gray = cv2.cvtColor(img, cv2.COLOR_BGR2GRAY)\n",
    "\n",
    "        # Color Features: Mean values of R, G, B channels\n",
    "        mean_colors = img.mean(axis=(0, 1))\n",
    "\n",
    "        # Texture Feature: Variance of Laplacian (sharpness measure)\n",
    "        lbp = cv2.Laplacian(gray, cv2.CV_64F).var()\n",
    "\n",
    "        # Edge Feature: Edge density using Canny edge detection\n",
    "        edges = cv2.Canny(gray, 100, 200)\n",
    "        edge_density = np.mean(edges)\n",
    "\n",
    "        # Statistical Feature: Combined Mean & Variance of pixel intensity\n",
    "        stat_features = np.mean(gray) + np.var(gray)\n",
    "\n",
    "        # Color Variance: Measures the diversity of colors in the image\n",
    "        color_variance = np.var(img, axis=(0, 1)).mean()\n",
    "\n",
    "        # Improved Roughness: Standard deviation of intensity differences\n",
    "        diff_intensity = np.diff(gray.astype(np.float32), axis=0)\n",
    "        roughness = np.std(diff_intensity)\n",
    "\n",
    "        # Image Entropy: Measures randomness/complexity in the image\n",
    "        entropy_value = shannon_entropy(gray)\n",
    "\n",
    "        # New Feature: GLCM Homogeneity (Texture Feature)\n",
    "        glcm = graycomatrix(gray, distances=[1], angles=[0], levels=256, symmetric=True, normed=True)\n",
    "        homogeneity = graycoprops(glcm, 'homogeneity')[0, 0]\n",
    "\n",
    "        # Append features to the list\n",
    "        features.append([\n",
    "            *mean_colors, lbp, edge_density, stat_features,\n",
    "            color_variance, roughness, entropy_value, homogeneity\n",
    "        ])\n",
    "\n",
    "    return np.array(features)\n"
   ],
   "id": "55171366f2c5c572",
   "outputs": [],
   "execution_count": 113
  },
  {
   "metadata": {},
   "cell_type": "markdown",
   "source": [
    "## Process Images and Save Features\n",
    "Now, we load the images, extract features, and save them into a CSV file for further analysis.\n"
   ],
   "id": "35afa284aec43b7c"
  },
  {
   "metadata": {
    "ExecuteTime": {
     "end_time": "2025-04-01T09:50:00.400230Z",
     "start_time": "2025-04-01T09:49:23.339254Z"
    }
   },
   "cell_type": "code",
   "source": [
    "import os\n",
    "import pandas as pd\n",
    "\n",
    "# Load images from dataset\n",
    "image_folder = \"./dataset/train\"\n",
    "images, labels = load_images(image_folder)\n",
    "\n",
    "# Extract features\n",
    "features = extract_features(images)\n",
    "\n",
    "# Define feature names\n",
    "feature_names = [\"R\", \"G\", \"B\", \"LBP\", \"Edges\", \"Stat_Feature\", \"Color_Variance\", \"Roughness\", \"Entropy\", \"Homogeneity\"]\n",
    "\n",
    "# Save extracted features into a CSV file for further analysis\n",
    "df = pd.DataFrame(features, columns=feature_names)\n",
    "\n",
    "output_path = \"features.csv\"\n",
    "df.to_csv(output_path, index=False)\n",
    "\n",
    "print(f\"✅ Feature extraction completed and saved to {output_path}!\")\n"
   ],
   "id": "e382060954b509f9",
   "outputs": [
    {
     "name": "stdout",
     "output_type": "stream",
     "text": [
      "✅ Feature extraction completed and saved to features.csv!\n"
     ]
    }
   ],
   "execution_count": 114
  },
  {
   "metadata": {},
   "cell_type": "markdown",
   "source": [
    "## Summary of Extracted Features  \n",
    "\n",
    "Below is a summary of all extracted features along with their descriptions:\n",
    "\n",
    "|  **Feature Name** |  **Description** |\n",
    "|--------------|-------------------------------------------------------------|\n",
    "| **R, G, B** | Average pixel intensity in Red, Green, and Blue channels (color features) |\n",
    "| **LBP (Laplacian Variance)** | Measures texture sharpness and contrast (higher = sharper texture) |\n",
    "| **Edge Density** | Number of edges detected using the Canny edge detector (higher = more edges) |\n",
    "| **Stat_Feature** | Combined Mean & Variance of pixel intensities (brightness & contrast) |\n",
    "| **Color Variance** | Measures the diversity of colors in the image (higher = more colorful) |\n",
    "| **Texture Roughness** | Measures surface roughness using pixel intensity differences (higher = rougher) |\n",
    "| **Entropy** | Measures randomness & complexity in the image (higher = more complex texture) |\n",
    "\n",
    "---\n",
    "### ✅ **Key Insights**\n",
    "✔ **Higher Edge Density** → More detailed images with strong contours.  \n",
    "✔ **Higher Entropy** → More complex images with diverse textures.  \n",
    "✔ **Higher Color Variance** → More colorful and vibrant images.  \n",
    "✔ **Higher Roughness** → More irregular and noisy textures.  \n",
    "\n",
    "These features will be used in the next step for **Feature Selection (Phase 2).**  \n",
    "**Let’s move to the next step!**\n"
   ],
   "id": "71cf9fd905f97bf8"
  },
  {
   "metadata": {},
   "cell_type": "markdown",
   "source": "#  Phase 2: Feature Selection",
   "id": "75e227ff5dbe00a3"
  },
  {
   "metadata": {
    "ExecuteTime": {
     "end_time": "2025-04-01T09:50:32.792947Z",
     "start_time": "2025-04-01T09:50:32.782069Z"
    }
   },
   "cell_type": "code",
   "source": [
    "# Load extracted features from Phase 1\n",
    "df = pd.read_csv(\"features.csv\")"
   ],
   "id": "d8b3a2edc4aae9b4",
   "outputs": [],
   "execution_count": 115
  },
  {
   "metadata": {},
   "cell_type": "markdown",
   "source": "### Manually Calculate Pearson Correlation Coefficient",
   "id": "639b49e1fcde5626"
  },
  {
   "metadata": {
    "ExecuteTime": {
     "end_time": "2025-04-01T09:50:34.072716Z",
     "start_time": "2025-04-01T09:50:34.067617Z"
    }
   },
   "cell_type": "code",
   "source": [
    "def pearson_correlation(x, y):\n",
    "    mean_x, mean_y = sum(x) / len(x), sum(y) / len(y)\n",
    "    numerator = sum((a - mean_x) * (b - mean_y) for a, b in zip(x, y))\n",
    "    denominator = ((sum((a - mean_x) ** 2 for a in x) * sum((b - mean_y) ** 2 for b in y)) ** 0.5)\n",
    "    return numerator / denominator if denominator != 0 else 0"
   ],
   "id": "e727b77bbabea2fe",
   "outputs": [],
   "execution_count": 116
  },
  {
   "metadata": {},
   "cell_type": "markdown",
   "source": "### Construct Correlation Matrix",
   "id": "c5b4c1311ca9e3ad"
  },
  {
   "metadata": {
    "ExecuteTime": {
     "end_time": "2025-04-01T09:54:32.877139Z",
     "start_time": "2025-04-01T09:54:32.635845Z"
    }
   },
   "cell_type": "code",
   "source": [
    "# Construct correlation matrix manually\n",
    "features = df.columns[1:]\n",
    "correlation_matrix = {}\n",
    "\n",
    "for feature1 in features:\n",
    "    correlation_matrix[feature1] = {}\n",
    "    for feature2 in features:\n",
    "        if feature1 == feature2:\n",
    "            correlation_matrix[feature1][feature2] = 1  # Correlation with itself is always 1\n",
    "        else:\n",
    "            correlation_matrix[feature1][feature2] = pearson_correlation(df[feature1], df[feature2])\n",
    "\n",
    "# Convert dictionary to DataFrame for better visualization\n",
    "correlation_df = pd.DataFrame(correlation_matrix)\n",
    "\n",
    "# Display correlation matrix\n",
    "correlation_df\n"
   ],
   "id": "34e6018d3e31bcec",
   "outputs": [
    {
     "data": {
      "text/plain": [
       "                       G         B       LBP     Edges  Stat_Feature  \\\n",
       "G               1.000000  0.965685 -0.081097 -0.333975      0.029814   \n",
       "B               0.965685  1.000000 -0.104274 -0.352835     -0.061720   \n",
       "LBP            -0.081097 -0.104274  1.000000  0.662117      0.477751   \n",
       "Edges          -0.333975 -0.352835  0.662117  1.000000      0.299933   \n",
       "Stat_Feature    0.029814 -0.061720  0.477751  0.299933      1.000000   \n",
       "Color_Variance  0.002074 -0.091258  0.482744  0.309060      0.998197   \n",
       "Roughness      -0.190332 -0.221311  0.926014  0.786167      0.564653   \n",
       "Entropy        -0.036695 -0.112155  0.623362  0.660382      0.637138   \n",
       "homogeneity     0.192892  0.195375 -0.522320 -0.755086     -0.062877   \n",
       "\n",
       "                Color_Variance  Roughness   Entropy  homogeneity  \n",
       "G                     0.002074  -0.190332 -0.036695     0.192892  \n",
       "B                    -0.091258  -0.221311 -0.112155     0.195375  \n",
       "LBP                   0.482744   0.926014  0.623362    -0.522320  \n",
       "Edges                 0.309060   0.786167  0.660382    -0.755086  \n",
       "Stat_Feature          0.998197   0.564653  0.637138    -0.062877  \n",
       "Color_Variance        1.000000   0.571674  0.645493    -0.070635  \n",
       "Roughness             0.571674   1.000000  0.748781    -0.608135  \n",
       "Entropy               0.645493   0.748781  1.000000    -0.643319  \n",
       "homogeneity          -0.070635  -0.608135 -0.643319     1.000000  "
      ],
      "text/html": [
       "<div>\n",
       "<style scoped>\n",
       "    .dataframe tbody tr th:only-of-type {\n",
       "        vertical-align: middle;\n",
       "    }\n",
       "\n",
       "    .dataframe tbody tr th {\n",
       "        vertical-align: top;\n",
       "    }\n",
       "\n",
       "    .dataframe thead th {\n",
       "        text-align: right;\n",
       "    }\n",
       "</style>\n",
       "<table border=\"1\" class=\"dataframe\">\n",
       "  <thead>\n",
       "    <tr style=\"text-align: right;\">\n",
       "      <th></th>\n",
       "      <th>G</th>\n",
       "      <th>B</th>\n",
       "      <th>LBP</th>\n",
       "      <th>Edges</th>\n",
       "      <th>Stat_Feature</th>\n",
       "      <th>Color_Variance</th>\n",
       "      <th>Roughness</th>\n",
       "      <th>Entropy</th>\n",
       "      <th>homogeneity</th>\n",
       "    </tr>\n",
       "  </thead>\n",
       "  <tbody>\n",
       "    <tr>\n",
       "      <th>G</th>\n",
       "      <td>1.000000</td>\n",
       "      <td>0.965685</td>\n",
       "      <td>-0.081097</td>\n",
       "      <td>-0.333975</td>\n",
       "      <td>0.029814</td>\n",
       "      <td>0.002074</td>\n",
       "      <td>-0.190332</td>\n",
       "      <td>-0.036695</td>\n",
       "      <td>0.192892</td>\n",
       "    </tr>\n",
       "    <tr>\n",
       "      <th>B</th>\n",
       "      <td>0.965685</td>\n",
       "      <td>1.000000</td>\n",
       "      <td>-0.104274</td>\n",
       "      <td>-0.352835</td>\n",
       "      <td>-0.061720</td>\n",
       "      <td>-0.091258</td>\n",
       "      <td>-0.221311</td>\n",
       "      <td>-0.112155</td>\n",
       "      <td>0.195375</td>\n",
       "    </tr>\n",
       "    <tr>\n",
       "      <th>LBP</th>\n",
       "      <td>-0.081097</td>\n",
       "      <td>-0.104274</td>\n",
       "      <td>1.000000</td>\n",
       "      <td>0.662117</td>\n",
       "      <td>0.477751</td>\n",
       "      <td>0.482744</td>\n",
       "      <td>0.926014</td>\n",
       "      <td>0.623362</td>\n",
       "      <td>-0.522320</td>\n",
       "    </tr>\n",
       "    <tr>\n",
       "      <th>Edges</th>\n",
       "      <td>-0.333975</td>\n",
       "      <td>-0.352835</td>\n",
       "      <td>0.662117</td>\n",
       "      <td>1.000000</td>\n",
       "      <td>0.299933</td>\n",
       "      <td>0.309060</td>\n",
       "      <td>0.786167</td>\n",
       "      <td>0.660382</td>\n",
       "      <td>-0.755086</td>\n",
       "    </tr>\n",
       "    <tr>\n",
       "      <th>Stat_Feature</th>\n",
       "      <td>0.029814</td>\n",
       "      <td>-0.061720</td>\n",
       "      <td>0.477751</td>\n",
       "      <td>0.299933</td>\n",
       "      <td>1.000000</td>\n",
       "      <td>0.998197</td>\n",
       "      <td>0.564653</td>\n",
       "      <td>0.637138</td>\n",
       "      <td>-0.062877</td>\n",
       "    </tr>\n",
       "    <tr>\n",
       "      <th>Color_Variance</th>\n",
       "      <td>0.002074</td>\n",
       "      <td>-0.091258</td>\n",
       "      <td>0.482744</td>\n",
       "      <td>0.309060</td>\n",
       "      <td>0.998197</td>\n",
       "      <td>1.000000</td>\n",
       "      <td>0.571674</td>\n",
       "      <td>0.645493</td>\n",
       "      <td>-0.070635</td>\n",
       "    </tr>\n",
       "    <tr>\n",
       "      <th>Roughness</th>\n",
       "      <td>-0.190332</td>\n",
       "      <td>-0.221311</td>\n",
       "      <td>0.926014</td>\n",
       "      <td>0.786167</td>\n",
       "      <td>0.564653</td>\n",
       "      <td>0.571674</td>\n",
       "      <td>1.000000</td>\n",
       "      <td>0.748781</td>\n",
       "      <td>-0.608135</td>\n",
       "    </tr>\n",
       "    <tr>\n",
       "      <th>Entropy</th>\n",
       "      <td>-0.036695</td>\n",
       "      <td>-0.112155</td>\n",
       "      <td>0.623362</td>\n",
       "      <td>0.660382</td>\n",
       "      <td>0.637138</td>\n",
       "      <td>0.645493</td>\n",
       "      <td>0.748781</td>\n",
       "      <td>1.000000</td>\n",
       "      <td>-0.643319</td>\n",
       "    </tr>\n",
       "    <tr>\n",
       "      <th>homogeneity</th>\n",
       "      <td>0.192892</td>\n",
       "      <td>0.195375</td>\n",
       "      <td>-0.522320</td>\n",
       "      <td>-0.755086</td>\n",
       "      <td>-0.062877</td>\n",
       "      <td>-0.070635</td>\n",
       "      <td>-0.608135</td>\n",
       "      <td>-0.643319</td>\n",
       "      <td>1.000000</td>\n",
       "    </tr>\n",
       "  </tbody>\n",
       "</table>\n",
       "</div>"
      ]
     },
     "execution_count": 122,
     "metadata": {},
     "output_type": "execute_result"
    }
   ],
   "execution_count": 122
  },
  {
   "metadata": {
    "ExecuteTime": {
     "end_time": "2025-04-01T09:56:20.854106Z",
     "start_time": "2025-04-01T09:56:19.989168Z"
    }
   },
   "cell_type": "code",
   "source": [
    "import seaborn as sns\n",
    "import matplotlib.pyplot as plt\n",
    "import pandas as pd\n",
    "\n",
    "# Assuming correlation_df is correctly computed\n",
    "# Now we plot the heatmap using correlation_df\n",
    "plt.figure(figsize=(10, 8))\n",
    "sns.heatmap(correlation_df, annot=True, cmap=\"coolwarm\", fmt=\".2f\", linewidths=0.5)\n",
    "\n",
    "# Adding title\n",
    "plt.title(\"Feature Correlation Matrix\", fontsize=14)\n",
    "\n",
    "# Show the plot\n",
    "plt.show()\n"
   ],
   "id": "2e348e273ea56579",
   "outputs": [
    {
     "data": {
      "text/plain": [
       "<Figure size 1000x800 with 2 Axes>"
      ],
      "image/png": "[encoded data removed]"
     },
     "metadata": {},
     "output_type": "display_data"
    }
   ],
   "execution_count": 123
  },
  {
   "metadata": {},
   "cell_type": "markdown",
   "source": "### Remove Highly Correlated Features",
   "id": "5539209335f46d45"
  },
  {
   "metadata": {
    "ExecuteTime": {
     "end_time": "2025-04-01T09:56:26.936064Z",
     "start_time": "2025-04-01T09:56:26.931909Z"
    }
   },
   "cell_type": "code",
   "source": [
    "# Define a threshold to remove highly correlated features\n",
    "threshold = 0.91\n",
    "features_to_remove = set()\n",
    "\n",
    "for feature1 in features:\n",
    "    for feature2 in features:\n",
    "        if feature1 != feature2 and abs(correlation_matrix[feature1][feature2]) > threshold:\n",
    "            features_to_remove.add(feature2)  # Mark feature for removal\n",
    "\n",
    "# Display features to be removed\n",
    "print(\"Features to be removed:\", features_to_remove)\n"
   ],
   "id": "201f53e8d7232d85",
   "outputs": [
    {
     "name": "stdout",
     "output_type": "stream",
     "text": [
      "Features to be removed: {'Color_Variance', 'B', 'Stat_Feature', 'LBP', 'Roughness', 'G'}\n"
     ]
    }
   ],
   "execution_count": 125
  },
  {
   "metadata": {},
   "cell_type": "markdown",
   "source": "### Select Final Features",
   "id": "dd6d89632a7597ec"
  },
  {
   "metadata": {
    "ExecuteTime": {
     "end_time": "2025-04-01T08:19:42.879957Z",
     "start_time": "2025-04-01T08:19:42.867625Z"
    }
   },
   "cell_type": "code",
   "source": "df",
   "id": "cb279104e7f72470",
   "outputs": [
    {
     "data": {
      "text/plain": [
       "               R           G           B          LBP      Edges  \\\n",
       "0     111.283813  114.904465  108.790283  1364.888759  30.731049   \n",
       "1      81.355408   98.349182   91.633728  1484.439259  37.369080   \n",
       "2     116.525467  115.214539  101.966843   205.893287  12.225494   \n",
       "3     134.168777  156.773071  158.563782  1007.881371  22.143631   \n",
       "4      88.738983   92.399643   62.134338   301.154404   9.778061   \n",
       "...          ...         ...         ...          ...        ...   \n",
       "3595   64.048111   64.174866   49.144882   392.195829  30.439224   \n",
       "3596   95.026627   90.493500   83.907715   576.124731  33.789368   \n",
       "3597   69.078217   65.181244   65.378235   460.373184  41.197815   \n",
       "3598   54.184723   56.238480   39.600189   236.444987  10.295563   \n",
       "3599   58.650070   60.702972   41.405258   136.993620   5.112762   \n",
       "\n",
       "      Stat_Feature  Color_Variance  Roughness   Entropy  \n",
       "0      3274.770846     3209.058286   9.319777  2.773008  \n",
       "1      2153.253050     1984.181087   9.188955  2.830071  \n",
       "2      2897.296742     2740.012085   4.105699  2.055768  \n",
       "3      2178.887335     2078.209883   8.012745  2.684014  \n",
       "4       843.837975      778.550681   5.211122  2.631159  \n",
       "...            ...             ...        ...       ...  \n",
       "3595   1349.319304     1272.178002   6.918444  2.726147  \n",
       "3596   1340.310007     1257.839791   7.143306  2.761129  \n",
       "3597   1933.901735     1874.987938   8.455209  2.648527  \n",
       "3598   3301.924794     3203.362395   3.889216  1.553199  \n",
       "3599    210.789350      162.056630   2.777252  1.757548  \n",
       "\n",
       "[3600 rows x 9 columns]"
      ],
      "text/html": [
       "<div>\n",
       "<style scoped>\n",
       "    .dataframe tbody tr th:only-of-type {\n",
       "        vertical-align: middle;\n",
       "    }\n",
       "\n",
       "    .dataframe tbody tr th {\n",
       "        vertical-align: top;\n",
       "    }\n",
       "\n",
       "    .dataframe thead th {\n",
       "        text-align: right;\n",
       "    }\n",
       "</style>\n",
       "<table border=\"1\" class=\"dataframe\">\n",
       "  <thead>\n",
       "    <tr style=\"text-align: right;\">\n",
       "      <th></th>\n",
       "      <th>R</th>\n",
       "      <th>G</th>\n",
       "      <th>B</th>\n",
       "      <th>LBP</th>\n",
       "      <th>Edges</th>\n",
       "      <th>Stat_Feature</th>\n",
       "      <th>Color_Variance</th>\n",
       "      <th>Roughness</th>\n",
       "      <th>Entropy</th>\n",
       "    </tr>\n",
       "  </thead>\n",
       "  <tbody>\n",
       "    <tr>\n",
       "      <th>0</th>\n",
       "      <td>111.283813</td>\n",
       "      <td>114.904465</td>\n",
       "      <td>108.790283</td>\n",
       "      <td>1364.888759</td>\n",
       "      <td>30.731049</td>\n",
       "      <td>3274.770846</td>\n",
       "      <td>3209.058286</td>\n",
       "      <td>9.319777</td>\n",
       "      <td>2.773008</td>\n",
       "    </tr>\n",
       "    <tr>\n",
       "      <th>1</th>\n",
       "      <td>81.355408</td>\n",
       "      <td>98.349182</td>\n",
       "      <td>91.633728</td>\n",
       "      <td>1484.439259</td>\n",
       "      <td>37.369080</td>\n",
       "      <td>2153.253050</td>\n",
       "      <td>1984.181087</td>\n",
       "      <td>9.188955</td>\n",
       "      <td>2.830071</td>\n",
       "    </tr>\n",
       "    <tr>\n",
       "      <th>2</th>\n",
       "      <td>116.525467</td>\n",
       "      <td>115.214539</td>\n",
       "      <td>101.966843</td>\n",
       "      <td>205.893287</td>\n",
       "      <td>12.225494</td>\n",
       "      <td>2897.296742</td>\n",
       "      <td>2740.012085</td>\n",
       "      <td>4.105699</td>\n",
       "      <td>2.055768</td>\n",
       "    </tr>\n",
       "    <tr>\n",
       "      <th>3</th>\n",
       "      <td>134.168777</td>\n",
       "      <td>156.773071</td>\n",
       "      <td>158.563782</td>\n",
       "      <td>1007.881371</td>\n",
       "      <td>22.143631</td>\n",
       "      <td>2178.887335</td>\n",
       "      <td>2078.209883</td>\n",
       "      <td>8.012745</td>\n",
       "      <td>2.684014</td>\n",
       "    </tr>\n",
       "    <tr>\n",
       "      <th>4</th>\n",
       "      <td>88.738983</td>\n",
       "      <td>92.399643</td>\n",
       "      <td>62.134338</td>\n",
       "      <td>301.154404</td>\n",
       "      <td>9.778061</td>\n",
       "      <td>843.837975</td>\n",
       "      <td>778.550681</td>\n",
       "      <td>5.211122</td>\n",
       "      <td>2.631159</td>\n",
       "    </tr>\n",
       "    <tr>\n",
       "      <th>...</th>\n",
       "      <td>...</td>\n",
       "      <td>...</td>\n",
       "      <td>...</td>\n",
       "      <td>...</td>\n",
       "      <td>...</td>\n",
       "      <td>...</td>\n",
       "      <td>...</td>\n",
       "      <td>...</td>\n",
       "      <td>...</td>\n",
       "    </tr>\n",
       "    <tr>\n",
       "      <th>3595</th>\n",
       "      <td>64.048111</td>\n",
       "      <td>64.174866</td>\n",
       "      <td>49.144882</td>\n",
       "      <td>392.195829</td>\n",
       "      <td>30.439224</td>\n",
       "      <td>1349.319304</td>\n",
       "      <td>1272.178002</td>\n",
       "      <td>6.918444</td>\n",
       "      <td>2.726147</td>\n",
       "    </tr>\n",
       "    <tr>\n",
       "      <th>3596</th>\n",
       "      <td>95.026627</td>\n",
       "      <td>90.493500</td>\n",
       "      <td>83.907715</td>\n",
       "      <td>576.124731</td>\n",
       "      <td>33.789368</td>\n",
       "      <td>1340.310007</td>\n",
       "      <td>1257.839791</td>\n",
       "      <td>7.143306</td>\n",
       "      <td>2.761129</td>\n",
       "    </tr>\n",
       "    <tr>\n",
       "      <th>3597</th>\n",
       "      <td>69.078217</td>\n",
       "      <td>65.181244</td>\n",
       "      <td>65.378235</td>\n",
       "      <td>460.373184</td>\n",
       "      <td>41.197815</td>\n",
       "      <td>1933.901735</td>\n",
       "      <td>1874.987938</td>\n",
       "      <td>8.455209</td>\n",
       "      <td>2.648527</td>\n",
       "    </tr>\n",
       "    <tr>\n",
       "      <th>3598</th>\n",
       "      <td>54.184723</td>\n",
       "      <td>56.238480</td>\n",
       "      <td>39.600189</td>\n",
       "      <td>236.444987</td>\n",
       "      <td>10.295563</td>\n",
       "      <td>3301.924794</td>\n",
       "      <td>3203.362395</td>\n",
       "      <td>3.889216</td>\n",
       "      <td>1.553199</td>\n",
       "    </tr>\n",
       "    <tr>\n",
       "      <th>3599</th>\n",
       "      <td>58.650070</td>\n",
       "      <td>60.702972</td>\n",
       "      <td>41.405258</td>\n",
       "      <td>136.993620</td>\n",
       "      <td>5.112762</td>\n",
       "      <td>210.789350</td>\n",
       "      <td>162.056630</td>\n",
       "      <td>2.777252</td>\n",
       "      <td>1.757548</td>\n",
       "    </tr>\n",
       "  </tbody>\n",
       "</table>\n",
       "<p>3600 rows × 9 columns</p>\n",
       "</div>"
      ]
     },
     "execution_count": 44,
     "metadata": {},
     "output_type": "execute_result"
    }
   ],
   "execution_count": 44
  },
  {
   "metadata": {
    "ExecuteTime": {
     "end_time": "2025-04-01T09:56:29.161755Z",
     "start_time": "2025-04-01T09:56:29.116591Z"
    }
   },
   "cell_type": "code",
   "source": [
    "# Select the final features by removing highly correlated ones\n",
    "selected_features = [f for f in features if f not in features_to_remove]\n",
    "\n",
    "# Select the final features by removing highly correlated ones\n",
    "df_selected = df[selected_features]\n",
    "\n",
    "# Save the selected features to a new CSV file\n",
    "df_selected.to_csv(\"features_selected.csv\", index=False)\n",
    "\n",
    "# Display selected features\n",
    "print(\"Selected Features:\", selected_features)\n"
   ],
   "id": "fd11466973fa5268",
   "outputs": [
    {
     "name": "stdout",
     "output_type": "stream",
     "text": [
      "Selected Features: ['Edges', 'Entropy', 'homogeneity']\n"
     ]
    }
   ],
   "execution_count": 126
  },
  {
   "metadata": {},
   "cell_type": "markdown",
   "source": [
    "### Verifying the Accuracy of the Manual Algorithm\n",
    "This section compares the manually computed correlation-based feature selection with the built-in Pandas functions to ensure correctness.\n"
   ],
   "id": "3780a9f234eec321"
  },
  {
   "metadata": {
    "ExecuteTime": {
     "end_time": "2025-04-01T10:03:22.973602Z",
     "start_time": "2025-04-01T10:03:22.930868Z"
    }
   },
   "cell_type": "code",
   "source": [
    "import pandas as pd\n",
    "\n",
    "# Load extracted features\n",
    "df = pd.read_csv(\"features.csv\")\n",
    "\n",
    "# Compute correlation matrix using Pandas\n",
    "correlation_matrix = df.corr()\n",
    "\n",
    "# Define a threshold for high correlation\n",
    "threshold = 0.91\n",
    "\n",
    "# Identify highly correlated features\n",
    "to_remove = set()\n",
    "for col in correlation_matrix.columns:\n",
    "    for row in correlation_matrix.index:\n",
    "        if col != row and abs(correlation_matrix.loc[row, col]) > threshold:\n",
    "            to_remove.add(row)\n",
    "\n",
    "# Select features that are not highly correlated\n",
    "selected_features_lib = [f for f in df.columns if f not in to_remove]\n",
    "\n",
    "# Create a new DataFrame with selected features\n",
    "df_selected_lib = df[selected_features_lib]\n",
    "\n",
    "# Save the selected features\n",
    "df_selected_lib.to_csv(\"features_selected_lib.csv\", index=False)\n",
    "\n",
    "# Display results\n",
    "print(\"Selected Features using Pandas:\", selected_features_lib)\n"
   ],
   "id": "8505c7fbd193c842",
   "outputs": [
    {
     "name": "stdout",
     "output_type": "stream",
     "text": [
      "Selected Features using Pandas: ['Edges', 'Entropy', 'homogeneity']\n"
     ]
    }
   ],
   "execution_count": 128
  },
  {
   "metadata": {
    "ExecuteTime": {
     "end_time": "2025-04-01T10:03:16.366021Z",
     "start_time": "2025-04-01T10:03:16.363754Z"
    }
   },
   "cell_type": "code",
   "source": "",
   "id": "cb49c64d7649cec6",
   "outputs": [],
   "execution_count": 127
  }
 ],
 "metadata": {
  "kernelspec": {
   "display_name": "Python 3",
   "language": "python",
   "name": "python3"
  },
  "language_info": {
   "codemirror_mode": {
    "name": "ipython",
    "version": 2
   },
   "file_extension": ".py",
   "mimetype": "text/x-python",
   "name": "python",
   "nbconvert_exporter": "python",
   "pygments_lexer": "ipython2",
   "version": "2.7.6"
  }
 },
 "nbformat": 4,
 "nbformat_minor": 5
}
